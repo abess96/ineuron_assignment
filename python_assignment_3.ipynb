{
  "nbformat": 4,
  "nbformat_minor": 0,
  "metadata": {
    "colab": {
      "name": "python_assignment_3.ipynb",
      "provenance": [],
      "collapsed_sections": [],
      "authorship_tag": "ABX9TyNEMbLE/hX2n2krb7PYiK9k",
      "include_colab_link": true
    },
    "kernelspec": {
      "name": "python3",
      "display_name": "Python 3"
    }
  },
  "cells": [
    {
      "cell_type": "markdown",
      "metadata": {
        "id": "view-in-github",
        "colab_type": "text"
      },
      "source": [
        "<a href=\"https://colab.research.google.com/github/abess96/ineuron_assignment/blob/master/python_assignment_3.ipynb\" target=\"_parent\"><img src=\"https://colab.research.google.com/assets/colab-badge.svg\" alt=\"Open In Colab\"/></a>"
      ]
    },
    {
      "cell_type": "markdown",
      "metadata": {
        "id": "5voLSqJfuDc1"
      },
      "source": [
        "1. Write a Python Program to implement your own myreduce() function which works exactly like Python's built-in function reduce()"
      ]
    },
    {
      "cell_type": "code",
      "metadata": {
        "id": "hL6FqqypuNv_"
      },
      "source": [
        "def myreduce(func, values):\n",
        "    result = values[0]\n",
        "    for i in values[1:]:\n",
        "        result = func(result, i)\n",
        "    return result"
      ],
      "execution_count": null,
      "outputs": []
    },
    {
      "cell_type": "code",
      "metadata": {
        "id": "nPlBGho0uR5h"
      },
      "source": [
        "def func(a, b):\n",
        "    return a + b"
      ],
      "execution_count": null,
      "outputs": []
    },
    {
      "cell_type": "code",
      "metadata": {
        "id": "hOH7JgDTuV53",
        "outputId": "6ecdee7a-8b32-4ed5-d8a5-27fd86d222fe",
        "colab": {
          "base_uri": "https://localhost:8080/",
          "height": 34
        }
      },
      "source": [
        "l = [1, 2, 3, 4, 5, 6, 7, 8, 9, 10]\n",
        "print(\"My Reduce Output is:\",myreduce(func, l))"
      ],
      "execution_count": null,
      "outputs": [
        {
          "output_type": "stream",
          "text": [
            "My Reduce Output is: 35\n"
          ],
          "name": "stdout"
        }
      ]
    },
    {
      "cell_type": "markdown",
      "metadata": {
        "id": "RQhOLRXgunPN"
      },
      "source": [
        "2. Write a Python program to implement your own myfilter() function which works exactly like Python's built-in function filter()"
      ]
    },
    {
      "cell_type": "code",
      "metadata": {
        "id": "VBBk2cVguZsy"
      },
      "source": [
        "def myfilter(fun, values):\n",
        "    result = list()\n",
        "    for i in values:\n",
        "        if fun(i):\n",
        "            result.append(i)\n",
        "    return result"
      ],
      "execution_count": null,
      "outputs": []
    },
    {
      "cell_type": "code",
      "metadata": {
        "id": "qlazZO02ut3d"
      },
      "source": [
        "\n",
        "def fun(x):\n",
        "    if x % 5 == 0:\n",
        "        return True\n",
        "    else:\n",
        "        return False"
      ],
      "execution_count": null,
      "outputs": []
    },
    {
      "cell_type": "code",
      "metadata": {
        "id": "x6fbhfRMuxNc",
        "outputId": "597d52f6-2318-41fe-b13a-8eae77effa07",
        "colab": {
          "base_uri": "https://localhost:8080/",
          "height": 34
        }
      },
      "source": [
        "lst = [12, 15, 60, 34, 53]\n",
        "print(\"My Filter Output is: \", myfilter(fun, lst))"
      ],
      "execution_count": null,
      "outputs": [
        {
          "output_type": "stream",
          "text": [
            "My Filter Output is:  [15, 60]\n"
          ],
          "name": "stdout"
        }
      ]
    },
    {
      "cell_type": "markdown",
      "metadata": {
        "id": "nBPV9vGGy8rY"
      },
      "source": [
        "3.Implement List comprehensions to produce the following lists.\n",
        "\n",
        "3a. ['x', 'xx', 'xxx', 'xxxx', 'y', 'yy', 'yyy', 'yyyy', 'z', 'zz', 'zzz', 'zzzz']"
      ]
    },
    {
      "cell_type": "code",
      "metadata": {
        "id": "zpaC8C9Gu0kt",
        "outputId": "2bb3d9e3-5146-46be-c7ae-7ea54aa528ac",
        "colab": {
          "base_uri": "https://localhost:8080/",
          "height": 34
        }
      },
      "source": [
        "\n",
        "l1 = ['x', 'y', 'z']\n",
        "lst1 = [i*j for j in l1 for i in range(1, 5)]\n",
        "print(lst1)"
      ],
      "execution_count": null,
      "outputs": [
        {
          "output_type": "stream",
          "text": [
            "['x', 'xx', 'xxx', 'xxxx', 'y', 'yy', 'yyy', 'yyyy', 'z', 'zz', 'zzz', 'zzzz']\n"
          ],
          "name": "stdout"
        }
      ]
    },
    {
      "cell_type": "markdown",
      "metadata": {
        "id": "ak1GwpbTzbIl"
      },
      "source": [
        "3b. ['x', 'y', 'z', 'xx', 'yy', 'zz', 'xxx', 'yyy', 'zzz', 'xxxx', 'yyyy', 'zzzz']"
      ]
    },
    {
      "cell_type": "code",
      "metadata": {
        "id": "VM4NV90VzYsv",
        "outputId": "485edc56-b762-4872-e6cc-3c9cf5c33671",
        "colab": {
          "base_uri": "https://localhost:8080/",
          "height": 34
        }
      },
      "source": [
        "l2 = ['x', 'y', 'z']\n",
        "lst2 = [i*j for j in range(1, 5) for i in l2]\n",
        "print(lst2)"
      ],
      "execution_count": null,
      "outputs": [
        {
          "output_type": "stream",
          "text": [
            "['x', 'y', 'z', 'xx', 'yy', 'zz', 'xxx', 'yyy', 'zzz', 'xxxx', 'yyyy', 'zzzz']\n"
          ],
          "name": "stdout"
        }
      ]
    },
    {
      "cell_type": "markdown",
      "metadata": {
        "id": "IV9ltUgGzxoG"
      },
      "source": [
        "3c. [[2], [3], [4], [3], [4], [5], [4], [5], [6]]"
      ]
    },
    {
      "cell_type": "code",
      "metadata": {
        "id": "ikfi4Fq4zpDZ",
        "outputId": "67e42b22-0605-455b-e4de-1be12286cf20",
        "colab": {
          "base_uri": "https://localhost:8080/",
          "height": 34
        }
      },
      "source": [
        "lst3 = [[x + y] for y in range(3) for x in range(2, 5)]\n",
        "print(lst3)"
      ],
      "execution_count": null,
      "outputs": [
        {
          "output_type": "stream",
          "text": [
            "[[2], [3], [4], [3], [4], [5], [4], [5], [6]]\n"
          ],
          "name": "stdout"
        }
      ]
    },
    {
      "cell_type": "markdown",
      "metadata": {
        "id": "MIQQRRDMz-Fo"
      },
      "source": [
        "\n",
        "3d. [[2, 3, 4, 5], [3, 4, 5, 6], [4, 5, 6, 7], [5, 6, 7, 8]]"
      ]
    },
    {
      "cell_type": "code",
      "metadata": {
        "id": "4QtvtoHlz5TQ",
        "outputId": "0534ff84-071e-4e47-c069-27a92d90f1e7",
        "colab": {
          "base_uri": "https://localhost:8080/",
          "height": 34
        }
      },
      "source": [
        "lst4 = [[a+b for b in range(2, 6)] for a in range(4)]\n",
        "print(lst4)"
      ],
      "execution_count": null,
      "outputs": [
        {
          "output_type": "stream",
          "text": [
            "[[2, 3, 4, 5], [3, 4, 5, 6], [4, 5, 6, 7], [5, 6, 7, 8]]\n"
          ],
          "name": "stdout"
        }
      ]
    },
    {
      "cell_type": "markdown",
      "metadata": {
        "id": "a3Q1a6bW0LrG"
      },
      "source": [
        "\n",
        "3e. [(1, 1), (2, 1), (3, 1), (1, 2), (2, 2), (3, 2), (1, 3), (2, 3), (3, 3)]"
      ]
    },
    {
      "cell_type": "code",
      "metadata": {
        "id": "bBsmlRRR0GeO",
        "outputId": "7d204246-c76d-4d74-b2dc-18cd0bfa0d53",
        "colab": {
          "base_uri": "https://localhost:8080/",
          "height": 34
        }
      },
      "source": [
        "lst5 = [(p, q) for q in range(1, 4) for p in range(1, 4)]\n",
        "print(lst5)"
      ],
      "execution_count": null,
      "outputs": [
        {
          "output_type": "stream",
          "text": [
            "[(1, 1), (2, 1), (3, 1), (1, 2), (2, 2), (3, 2), (1, 3), (2, 3), (3, 3)]\n"
          ],
          "name": "stdout"
        }
      ]
    },
    {
      "cell_type": "code",
      "metadata": {
        "id": "HYi-5_7e0SM9"
      },
      "source": [
        ""
      ],
      "execution_count": null,
      "outputs": []
    }
  ]
}