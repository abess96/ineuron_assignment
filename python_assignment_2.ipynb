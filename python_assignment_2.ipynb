{
  "nbformat": 4,
  "nbformat_minor": 0,
  "metadata": {
    "kernelspec": {
      "display_name": "Python 3",
      "language": "python",
      "name": "python3"
    },
    "language_info": {
      "codemirror_mode": {
        "name": "ipython",
        "version": 3
      },
      "file_extension": ".py",
      "mimetype": "text/x-python",
      "name": "python",
      "nbconvert_exporter": "python",
      "pygments_lexer": "ipython3",
      "version": "3.8.3"
    },
    "colab": {
      "name": "python_assignment_2.ipynb",
      "provenance": [],
      "include_colab_link": true
    }
  },
  "cells": [
    {
      "cell_type": "markdown",
      "metadata": {
        "id": "view-in-github",
        "colab_type": "text"
      },
      "source": [
        "<a href=\"https://colab.research.google.com/github/abess96/ineuron_assignment/blob/master/python_assignment_2.ipynb\" target=\"_parent\"><img src=\"https://colab.research.google.com/assets/colab-badge.svg\" alt=\"Open In Colab\"/></a>"
      ]
    },
    {
      "cell_type": "markdown",
      "metadata": {
        "id": "LnsY4j6Zlphb"
      },
      "source": [
        "**Right Start Pattern Program**"
      ]
    },
    {
      "cell_type": "code",
      "metadata": {
        "id": "tCANV95qkzaH",
        "outputId": "af12dbca-ef1d-40a1-a40b-dde841dc3292",
        "colab": {
          "base_uri": "https://localhost:8080/",
          "height": 202
        }
      },
      "source": [
        "def pattern(n):\n",
        "      for i in range(0, n):\n",
        "           for j in range(0, i + 1):\n",
        "                print(\"* \", end=\"\")\n",
        "           print(\"\\r\")\n",
        "      for i in range(n+1, 0 , -1):\n",
        "          for j in range(1, i + 1):\n",
        "               print(\"* \", end=\"\")\n",
        "          print(\"\\r\")\n",
        " \n",
        "pattern(5)"
      ],
      "execution_count": 9,
      "outputs": [
        {
          "output_type": "stream",
          "text": [
            "* \r\n",
            "* * \r\n",
            "* * * \r\n",
            "* * * * \r\n",
            "* * * * * \r\n",
            "* * * * * * \r\n",
            "* * * * * \r\n",
            "* * * * \r\n",
            "* * * \r\n",
            "* * \r\n",
            "* \r\n"
          ],
          "name": "stdout"
        }
      ]
    },
    {
      "cell_type": "markdown",
      "metadata": {
        "id": "V7IEtlhImKsd"
      },
      "source": [
        "2. Write a Python program to reverse a word after accepting the input from the user."
      ]
    },
    {
      "cell_type": "code",
      "metadata": {
        "id": "voj1U9BsjT4f",
        "outputId": "4bfd2cc5-cac1-47cf-9ac9-86d91841ee47",
        "colab": {
          "base_uri": "https://localhost:8080/",
          "height": 67
        }
      },
      "source": [
        "string =input(\" enter the string:\")\n",
        "string1 =\" \"\n",
        "for i in string:\n",
        "  string1= i + string1\n",
        "print(\" input= \" ,string)\n",
        "print(\"output= \",string1)"
      ],
      "execution_count": 10,
      "outputs": [
        {
          "output_type": "stream",
          "text": [
            " enter the string:aby\n",
            " input=  aby\n",
            "output=  yba \n"
          ],
          "name": "stdout"
        }
      ]
    },
    {
      "cell_type": "code",
      "metadata": {
        "id": "FmHTJhy5jT4m"
      },
      "source": [
        ""
      ],
      "execution_count": null,
      "outputs": []
    }
  ]
}