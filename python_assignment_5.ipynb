{
  "nbformat": 4,
  "nbformat_minor": 0,
  "metadata": {
    "colab": {
      "name": "python_assignment_5.ipynb",
      "provenance": [],
      "authorship_tag": "ABX9TyPUEAwO3GTGcgicqNMwgBSQ",
      "include_colab_link": true
    },
    "kernelspec": {
      "name": "python3",
      "display_name": "Python 3"
    }
  },
  "cells": [
    {
      "cell_type": "markdown",
      "metadata": {
        "id": "view-in-github",
        "colab_type": "text"
      },
      "source": [
        "<a href=\"https://colab.research.google.com/github/abess96/ineuron_assignment/blob/master/python_assignment_5.ipynb\" target=\"_parent\"><img src=\"https://colab.research.google.com/assets/colab-badge.svg\" alt=\"Open In Colab\"/></a>"
      ]
    },
    {
      "cell_type": "markdown",
      "metadata": {
        "id": "fzeBDHXzrz3m"
      },
      "source": [
        "1. Write a function to compute 5/0 and use try/except to catch the exceptions."
      ]
    },
    {
      "cell_type": "code",
      "metadata": {
        "id": "tXo8CTcNrywE"
      },
      "source": [
        "def HandlingExecption():\n",
        "    try:\n",
        "        x = 5 / 0\n",
        "    except ZeroDivisionError:\n",
        "        return \"Division by zero is not defined\""
      ],
      "execution_count": 5,
      "outputs": []
    },
    {
      "cell_type": "code",
      "metadata": {
        "id": "9BQXZCNzrO_g",
        "outputId": "b72723db-975c-472b-d4c0-99232da0816a",
        "colab": {
          "base_uri": "https://localhost:8080/",
          "height": 35
        }
      },
      "source": [
        "HandlingExecption()"
      ],
      "execution_count": 6,
      "outputs": [
        {
          "output_type": "execute_result",
          "data": {
            "application/vnd.google.colaboratory.intrinsic+json": {
              "type": "string"
            },
            "text/plain": [
              "'Division by zero is not defined'"
            ]
          },
          "metadata": {
            "tags": []
          },
          "execution_count": 6
        }
      ]
    },
    {
      "cell_type": "markdown",
      "metadata": {
        "id": "QnLpquUhsWh2"
      },
      "source": [
        "2. \n",
        "Implement a Python program to generate all sentences where subject is in [\"Americans\", \"Indians\"] and verb is in [\"Play\", \"watch\"] and the object is in [\"Baseball\",\"cricket\"].\n",
        "Hint: Subject,Verb and Object should be declared in the program as shown below.\n",
        "subjects=[\"Americans\",\"Indians\"]\n",
        "\n",
        "verbs=[\"play\",\"watch\"]\n",
        "\n",
        "objects=[\"Baseball\",\"Cricket\"]\n",
        "\n",
        "Output should come as below:\n",
        "Americans play Baseball.\n",
        "\n",
        "Americans play Cricket.\n",
        "\n",
        "Americans watch Baseball.\n",
        "\n",
        "Americans watch Cricket.\n",
        "\n",
        "Indians play Baseball.\n",
        "\n",
        "Indians play Cricket.\n",
        "\n",
        "Indians watch Baseball.\n",
        "\n",
        "Indians watch Cricket."
      ]
    },
    {
      "cell_type": "code",
      "metadata": {
        "id": "CxQ3riHFrUIt"
      },
      "source": [
        "subjects = [\"Americans\",\"Indians\"]\n",
        "verbs = [\"play\",\"watch\"]\n",
        "objects = [\"Baseball\",\"Cricket\"]\n",
        "\n",
        "sentence = [s + \" \" + v + \" \" + o for s in subjects for v in verbs for o in objects]"
      ],
      "execution_count": 7,
      "outputs": []
    },
    {
      "cell_type": "code",
      "metadata": {
        "id": "tlSvmuG-tkKK",
        "outputId": "3587cf44-6acc-42f2-eaf3-b732a81e415b",
        "colab": {
          "base_uri": "https://localhost:8080/",
          "height": 151
        }
      },
      "source": [
        "for i in sentence:\n",
        "    print(i)"
      ],
      "execution_count": 8,
      "outputs": [
        {
          "output_type": "stream",
          "text": [
            "Americans play Baseball\n",
            "Americans play Cricket\n",
            "Americans watch Baseball\n",
            "Americans watch Cricket\n",
            "Indians play Baseball\n",
            "Indians play Cricket\n",
            "Indians watch Baseball\n",
            "Indians watch Cricket\n"
          ],
          "name": "stdout"
        }
      ]
    },
    {
      "cell_type": "code",
      "metadata": {
        "id": "byjxcKAotlLj"
      },
      "source": [
        ""
      ],
      "execution_count": null,
      "outputs": []
    }
  ]
}