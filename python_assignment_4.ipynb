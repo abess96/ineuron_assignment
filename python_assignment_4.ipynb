{
  "nbformat": 4,
  "nbformat_minor": 0,
  "metadata": {
    "colab": {
      "name": "python_assignment_4.ipynb",
      "provenance": [],
      "collapsed_sections": [],
      "authorship_tag": "ABX9TyMq7SAHhOtktxon3cj3mSFJ",
      "include_colab_link": true
    },
    "kernelspec": {
      "name": "python3",
      "display_name": "Python 3"
    }
  },
  "cells": [
    {
      "cell_type": "markdown",
      "metadata": {
        "id": "view-in-github",
        "colab_type": "text"
      },
      "source": [
        "<a href=\"https://colab.research.google.com/github/abess96/ineuron_assignment/blob/master/python_assignment_4.ipynb\" target=\"_parent\"><img src=\"https://colab.research.google.com/assets/colab-badge.svg\" alt=\"Open In Colab\"/></a>"
      ]
    },
    {
      "cell_type": "markdown",
      "metadata": {
        "id": "2v-0Z4e_0q3-"
      },
      "source": [
        "1.1 Write a Python Program(with class concepts) to find the area of the triangle using the below formula.\n",
        "\n",
        "area = (s*(s-a)*(s-b)*(s-c)) ** 0.5\n",
        "\n",
        "Function to take the length of the sides of triangle from user should be defined in the parent class and function to calculate the area should be defined in subclass."
      ]
    },
    {
      "cell_type": "code",
      "metadata": {
        "id": "eorDR6lv0vri"
      },
      "source": [
        "class Triangle:\n",
        "    def __init__(self):\n",
        "        self.a = float(input(\"Enter side a: \"))\n",
        "        self.b = float(input(\"Enter side b: \"))\n",
        "        self.c = float(input(\"Enter side c: \"))"
      ],
      "execution_count": null,
      "outputs": []
    },
    {
      "cell_type": "code",
      "metadata": {
        "id": "joQ8xp7q03CV"
      },
      "source": [
        "class Area(Triangle):\n",
        "    def area(self):\n",
        "        s = (self.a + self.b + self.c) / 2\n",
        "        area = (s * (s - self.a)*(s - self.b)*(s - self.c)) ** 0.5\n",
        "        print(f\"Area of traingle is {area:.3f} cm\\u00b2\")"
      ],
      "execution_count": null,
      "outputs": []
    },
    {
      "cell_type": "code",
      "metadata": {
        "id": "rQ_IOA2u079n",
        "outputId": "fe696775-4ba1-48c0-bc89-2c3c5d2d3f68",
        "colab": {
          "base_uri": "https://localhost:8080/",
          "height": 84
        }
      },
      "source": [
        "a = Area()\n",
        "a.area()"
      ],
      "execution_count": null,
      "outputs": [
        {
          "output_type": "stream",
          "text": [
            "Enter side a: 5\n",
            "Enter side b: 6\n",
            "Enter side c: 6\n",
            "Area of traingle is 13.636 cm²\n"
          ],
          "name": "stdout"
        }
      ]
    },
    {
      "cell_type": "markdown",
      "metadata": {
        "id": "TPivTry51X50"
      },
      "source": [
        "1.2 \n",
        "Write a function filter_long_words() that takes a list of words and an integer n and returns the list of words that are longer than n."
      ]
    },
    {
      "cell_type": "code",
      "metadata": {
        "id": "yD_IhYI508nj"
      },
      "source": [
        "def filter_long_words(words, n):\n",
        "    l = list()\n",
        "    for i in words:\n",
        "        if len(i) > n:\n",
        "            l.append(i)\n",
        "    print(f\"Longest words are: {l}\")"
      ],
      "execution_count": 1,
      "outputs": []
    },
    {
      "cell_type": "code",
      "metadata": {
        "id": "4LneCqiu1cpO",
        "outputId": "8eba590c-e11a-4138-eac9-18a867356707",
        "colab": {
          "base_uri": "https://localhost:8080/",
          "height": 34
        }
      },
      "source": [
        "lst = ['Artificial intelligence', 'refers', 'to', 'the', 'simulation', 'of', 'human', 'intelligence', 'in', 'machines']\n",
        "filter_long_words(lst, 5)"
      ],
      "execution_count": 2,
      "outputs": [
        {
          "output_type": "stream",
          "text": [
            "Longest words are: ['Artificial intelligence', 'refers', 'simulation', 'intelligence', 'machines']\n"
          ],
          "name": "stdout"
        }
      ]
    },
    {
      "cell_type": "markdown",
      "metadata": {
        "id": "HNbh2Wnp1oEa"
      },
      "source": [
        "2.1 Write a Python program using function concept that maps list of words into a list of integers representing the lengths of the corresponding words."
      ]
    },
    {
      "cell_type": "code",
      "metadata": {
        "id": "JuwAWZ8X1fIH"
      },
      "source": [
        "def word_len(words):\n",
        "    return len(words)"
      ],
      "execution_count": null,
      "outputs": []
    },
    {
      "cell_type": "code",
      "metadata": {
        "id": "lcEjd2051sYO"
      },
      "source": [
        "l = ['ab', 'cde', 'erty']\n",
        "result = map(word_len, l)"
      ],
      "execution_count": null,
      "outputs": []
    },
    {
      "cell_type": "code",
      "metadata": {
        "id": "VPUGqSxV1utY",
        "outputId": "47b9a934-1120-487e-a48a-3e662e934b81",
        "colab": {
          "base_uri": "https://localhost:8080/",
          "height": 34
        }
      },
      "source": [
        "list(result)"
      ],
      "execution_count": null,
      "outputs": [
        {
          "output_type": "execute_result",
          "data": {
            "text/plain": [
              "[2, 3, 4]"
            ]
          },
          "metadata": {
            "tags": []
          },
          "execution_count": 14
        }
      ]
    },
    {
      "cell_type": "markdown",
      "metadata": {
        "id": "3AJH-UlY126f"
      },
      "source": [
        "2.2 Write a Python function which takes a character (i.e. a string of length 1) and returns True if it is a vowel, False otherwise."
      ]
    },
    {
      "cell_type": "code",
      "metadata": {
        "id": "TQ8ORQmD1xQD"
      },
      "source": [
        "def vowel_check(char):\n",
        "    if char == \"a\" or char == \"e\" or char == \"i\" or char == \"o\" or char == \"u\":\n",
        "        return True\n",
        "    else:\n",
        "        return False"
      ],
      "execution_count": null,
      "outputs": []
    },
    {
      "cell_type": "code",
      "metadata": {
        "id": "6TYdDmEb17sG",
        "outputId": "fc36e680-a356-4458-d457-6987c662bf8f",
        "colab": {
          "base_uri": "https://localhost:8080/",
          "height": 50
        }
      },
      "source": [
        "vowel_check(input(\"Input your character \"))"
      ],
      "execution_count": null,
      "outputs": [
        {
          "output_type": "stream",
          "text": [
            "Input your character b\n"
          ],
          "name": "stdout"
        },
        {
          "output_type": "execute_result",
          "data": {
            "text/plain": [
              "False"
            ]
          },
          "metadata": {
            "tags": []
          },
          "execution_count": 16
        }
      ]
    },
    {
      "cell_type": "code",
      "metadata": {
        "id": "rNtyJHr31-bi"
      },
      "source": [
        ""
      ],
      "execution_count": null,
      "outputs": []
    }
  ]
}